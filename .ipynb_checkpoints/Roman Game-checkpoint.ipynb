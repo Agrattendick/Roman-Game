{
 "cells": [
  {
   "cell_type": "code",
   "execution_count": 1,
   "metadata": {},
   "outputs": [],
   "source": [
    "#Roman Combat Game"
   ]
  },
  {
   "cell_type": "code",
   "execution_count": 2,
   "metadata": {},
   "outputs": [],
   "source": [
    "#Imports\n",
    "import random"
   ]
  },
  {
   "cell_type": "code",
   "execution_count": 3,
   "metadata": {},
   "outputs": [],
   "source": [
    "#Define Class\n",
    "class Combatant():\n",
    "    def __init__(self, name, strength, dex, con):\n",
    "        self.name = name\n",
    "        self.strength = strength\n",
    "        self.dex = dex\n",
    "        self.con = con\n",
    "        "
   ]
  },
  {
   "cell_type": "code",
   "execution_count": 4,
   "metadata": {},
   "outputs": [],
   "source": [
    "#Create and instances\n",
    "#Roman\n",
    "Roman = Combatant(\"Roman Legionary\", 10, 10, 10)\n",
    "\n",
    "#Barbarian\n",
    "Barbarian = Combatant(\"Barbarian\", 10, 10, 10)"
   ]
  },
  {
   "cell_type": "code",
   "execution_count": 5,
   "metadata": {},
   "outputs": [],
   "source": [
    "#Combat\n",
    "\n",
    "def combat():\n",
    "    #Roman Attack\n",
    "    AttackRoll = random.randint(1,20)\n",
    "    Attack = Roman.dex + AttackRoll\n",
    "    Defense = Barbarian.dex + 10\n",
    "    if Attack > Defense:\n",
    "        DamageRoll = random.randint(1,6)\n",
    "        print(\"You hit for \" + str(DamageRoll) + \" Damage!\")\n",
    "        Barbarian.con = Barbarian.con - DamageRoll\n",
    "        print(Barbarian.con)\n",
    "        if Barbarian.con < 0:\n",
    "            print(\"Victory for Rome!\")\n",
    "    else:\n",
    "        print(\"You Missed\")\n",
    "    #Barbarian Attack"
   ]
  },
  {
   "cell_type": "code",
   "execution_count": null,
   "metadata": {},
   "outputs": [
    {
     "name": "stdout",
     "output_type": "stream",
     "text": [
      "Attack? Y/NY\n",
      "You hit for 6 Damage!\n",
      "4\n",
      "Attack? Y/NY\n",
      "You Missed\n",
      "Attack? Y/NY\n",
      "You Missed\n",
      "Attack? Y/NY\n",
      "You hit for 1 Damage!\n",
      "3\n",
      "Attack? Y/NY\n",
      "You hit for 1 Damage!\n",
      "2\n",
      "Attack? Y/NY\n",
      "You hit for 6 Damage!\n",
      "-4\n",
      "Victory for Rome!\n"
     ]
    }
   ],
   "source": [
    "while Roman.con > 0:\n",
    "    user_choice = input (\"Attack? Y/N\")\n",
    "\n",
    "    if user_choice == \"Y\":\n",
    "        combat()"
   ]
  },
  {
   "cell_type": "code",
   "execution_count": null,
   "metadata": {},
   "outputs": [],
   "source": []
  },
  {
   "cell_type": "code",
   "execution_count": null,
   "metadata": {},
   "outputs": [],
   "source": []
  }
 ],
 "metadata": {
  "kernelspec": {
   "display_name": "Python 3",
   "language": "python",
   "name": "python3"
  },
  "language_info": {
   "codemirror_mode": {
    "name": "ipython",
    "version": 3
   },
   "file_extension": ".py",
   "mimetype": "text/x-python",
   "name": "python",
   "nbconvert_exporter": "python",
   "pygments_lexer": "ipython3",
   "version": "3.6.5"
  }
 },
 "nbformat": 4,
 "nbformat_minor": 2
}
