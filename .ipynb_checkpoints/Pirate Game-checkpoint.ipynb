{
 "cells": [
  {
   "cell_type": "code",
   "execution_count": null,
   "metadata": {},
   "outputs": [],
   "source": [
    "#Pirate Combat Game"
   ]
  },
  {
   "cell_type": "code",
   "execution_count": null,
   "metadata": {},
   "outputs": [],
   "source": [
    "#Imports\n",
    "import random"
   ]
  },
  {
   "cell_type": "code",
   "execution_count": null,
   "metadata": {},
   "outputs": [],
   "source": [
    "#Define Class\n",
    "class Combatant():\n",
    "    def __init__ (self, name, strength, dex, health, energy, eMax, init):\n",
    "        self.name = name\n",
    "        self.strength = strength\n",
    "        self.dex = dex\n",
    "        self.health = health\n",
    "        self.energy = energy\n",
    "        self.eMax = eMax\n",
    "        self.init = init\n"
   ]
  },
  {
   "cell_type": "code",
   "execution_count": null,
   "metadata": {},
   "outputs": [],
   "source": [
    "#Create Classes\n",
    "#Sailor\n",
    "Sailor = Combatant(\"Sailor\", 10, 10, 100, 50, 100, 10)\n",
    "\n",
    "#Pirate\n",
    "Pirate = Combatant(\"Pirate\", 10, 10, 100, 50, 100, 10)"
   ]
  }
 ],
 "metadata": {
  "kernelspec": {
   "display_name": "Python 3",
   "language": "python",
   "name": "python3"
  },
  "language_info": {
   "codemirror_mode": {
    "name": "ipython",
    "version": 3
   },
   "file_extension": ".py",
   "mimetype": "text/x-python",
   "name": "python",
   "nbconvert_exporter": "python",
   "pygments_lexer": "ipython3",
   "version": "3.6.5"
  }
 },
 "nbformat": 4,
 "nbformat_minor": 2
}
