{
 "cells": [
  {
   "cell_type": "code",
   "execution_count": 1,
   "metadata": {},
   "outputs": [],
   "source": [
    "#Pirate Combat Game"
   ]
  },
  {
   "cell_type": "code",
   "execution_count": 15,
   "metadata": {},
   "outputs": [],
   "source": [
    "#Imports\n",
    "import random"
   ]
  },
  {
   "cell_type": "code",
   "execution_count": 16,
   "metadata": {},
   "outputs": [],
   "source": [
    "#Define Class\n",
    "class Combatant():\n",
    "    def __init__ (self, name, strength, dex, health, energy, eMax, init, pos):\n",
    "        self.name = name\n",
    "        self.strength = strength\n",
    "        self.dex = dex\n",
    "        self.health = health\n",
    "        self.energy = energy\n",
    "        self.eMax = eMax\n",
    "        self.init = init\n",
    "        self.pos = pos\n"
   ]
  },
  {
   "cell_type": "code",
   "execution_count": 17,
   "metadata": {},
   "outputs": [],
   "source": [
    "#Create Classes\n",
    "#Sailor\n",
    "Sailor = Combatant(\"Sailor\", 10, 10, 100, 50, 100, 10, 0)\n",
    "\n",
    "#Pirate\n",
    "Pirate = Combatant(\"Pirate\", 10, 10, 100, 50, 100, 10, 0)"
   ]
  },
  {
   "cell_type": "code",
   "execution_count": 28,
   "metadata": {},
   "outputs": [],
   "source": [
    "# Combat Actions\n",
    "\n",
    "#initiative\n",
    "def initative():\n",
    "    #Sailor Init\n",
    "    sailorInit = Sailor.init + random.randint(1,20)\n",
    "    #Pirate Init\n",
    "    pirateInit = Pirate.init + random.randint(1,20)\n",
    "    #Set initiative \n",
    "    if pirateInit > sailorInit:\n",
    "        Pirate.pos = 1\n",
    "        Sailor.pos = 2\n",
    "    \n",
    "    elif sailorInit > pirateInit:\n",
    "        Sailor.pos = 1\n",
    "        Pirate.pos = 2\n",
    "        \n",
    "    else:\n",
    "        sailorFirst = bool(random.getrandbits(1))\n",
    "        if sailorFirst == True:\n",
    "            Sailor.pos = 1\n",
    "            Pirate.pos = 2\n",
    "        else:\n",
    "            Pirate.pos = 1\n",
    "            Sailor.pos = 2\n",
    "\n",
    "\n",
    "def baseAttack():\n",
    "    #Establish Attack Order\n",
    "    if Sailor.pos == 1 and Pirate.pos == 2:\n",
    "        First = Sailor\n",
    "        Second = Pirate\n",
    "    else:\n",
    "        First = Pirate\n",
    "        Second = Sailor\n",
    "\n",
    "        \n",
    "    #First Attack\n",
    "    firstAttackRoll = random.randint(1,20)\n",
    "    firstAttack = First.dex + firstAttackRoll\n",
    "    firstDefense = Second.dex + 10\n",
    "    if firstAttack > firstDefense:\n",
    "        firstDamageRoll = random.randint(1, First.strength)\n",
    "        Second.health = Second.health - firstDamageRoll\n",
    "        \n",
    "        #Making sure that the updated health information \n",
    "        #is updating the characters not just first and second.\n",
    "        print(str(First.name) + \" hit \" + str(Second.name) + \" for \" + str(firstDamageRoll) + \" Damage!\")\n",
    "        print(\"First \" + str(First.health))\n",
    "        print(\"Second \" + str(Second.health))\n",
    "        print(\"Sailor \" + str(Sailor.health))\n",
    "        print(\"Pirate \" + str(Pirate.health))\n",
    "\n",
    "    else:\n",
    "        print(str(First.name) + \" missed \" + str(Second.name))\n",
    "\n",
    "    #Second Attack\n",
    "    secondAttackRoll = random.randint(1,20)\n",
    "    secondAttack = Second.dex + secondAttackRoll\n",
    "    secondDefense = First.dex + 10\n",
    "    if secondAttack > secondDefense:\n",
    "        secondDamageRoll = random.randint(1, Second.strength)\n",
    "        print(str(Second.name) + \" hit \" + str(First.name) + \" for \" + str(secondDamageRoll) + \" Damage!\")\n",
    "        First.health = First.health - secondDamageRoll\n",
    "        \n",
    "        #Making sure that the updated health information\n",
    "        #is updating the characters not just first and second.\n",
    "        print(\"First \" + str(First.health))\n",
    "        print(\"Second \" + str(Second.health))\n",
    "        print(\"Sailor \" + str(Sailor.health))\n",
    "        print(\"Pirate \" + str(Pirate.health))\n",
    "        \n",
    "    else:\n",
    "        print(str(Second.name) + \" missed \"+ str(First.name))\n",
    "    \n",
    "    "
   ]
  },
  {
   "cell_type": "code",
   "execution_count": 31,
   "metadata": {},
   "outputs": [
    {
     "name": "stdout",
     "output_type": "stream",
     "text": [
      "Sailor hit Pirate for 10 Damage!\n",
      "First 64\n",
      "Second 67\n",
      "Sailor 64\n",
      "Pirate 67\n",
      "Pirate missed Sailor\n"
     ]
    }
   ],
   "source": [
    "initative()\n",
    "baseAttack()"
   ]
  },
  {
   "cell_type": "code",
   "execution_count": 13,
   "metadata": {},
   "outputs": [],
   "source": []
  },
  {
   "cell_type": "code",
   "execution_count": null,
   "metadata": {},
   "outputs": [],
   "source": []
  },
  {
   "cell_type": "code",
   "execution_count": null,
   "metadata": {},
   "outputs": [],
   "source": []
  },
  {
   "cell_type": "code",
   "execution_count": null,
   "metadata": {},
   "outputs": [],
   "source": []
  }
 ],
 "metadata": {
  "kernelspec": {
   "display_name": "Python 3",
   "language": "python",
   "name": "python3"
  },
  "language_info": {
   "codemirror_mode": {
    "name": "ipython",
    "version": 3
   },
   "file_extension": ".py",
   "mimetype": "text/x-python",
   "name": "python",
   "nbconvert_exporter": "python",
   "pygments_lexer": "ipython3",
   "version": "3.6.5"
  }
 },
 "nbformat": 4,
 "nbformat_minor": 2
}
