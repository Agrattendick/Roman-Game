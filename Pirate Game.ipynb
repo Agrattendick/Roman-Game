{
 "cells": [
  {
   "cell_type": "code",
   "execution_count": 1,
   "metadata": {},
   "outputs": [],
   "source": [
    "#Pirate Combat Game"
   ]
  },
  {
   "cell_type": "code",
   "execution_count": 2,
   "metadata": {},
   "outputs": [],
   "source": [
    "#Imports\n",
    "import pandas as pd\n",
    "import random\n",
    "import matplotlib\n",
    "import matplotlib.pyplot as plt"
   ]
  },
  {
   "cell_type": "code",
   "execution_count": 3,
   "metadata": {},
   "outputs": [],
   "source": [
    "#Define Class\n",
    "class Combatant():\n",
    "    def __init__ (self, name, strength, dex, health, energy, eMax, init, pos):\n",
    "        self.name = name\n",
    "        self.strength = strength\n",
    "        self.dex = dex\n",
    "        self.health = health\n",
    "        self.energy = energy\n",
    "        self.eMax = eMax\n",
    "        self.init = init\n",
    "        self.pos = pos\n"
   ]
  },
  {
   "cell_type": "code",
   "execution_count": 4,
   "metadata": {},
   "outputs": [],
   "source": [
    "#Create Classes\n",
    "#Sailor\n",
    "Sailor = Combatant(\"Sailor\", 10, 10, 100, 50, 100, 10, 0)\n",
    "\n",
    "#Pirate\n",
    "Pirate = Combatant(\"Pirate\", 10, 10, 100, 50, 100, 10, 0)"
   ]
  },
  {
   "cell_type": "code",
   "execution_count": 5,
   "metadata": {},
   "outputs": [],
   "source": [
    "#Turn Actions\n",
    "\n",
    "#initiative\n",
    "def initative():\n",
    "    #Sailor Init\n",
    "    sailorInit = Sailor.init + random.randint(1,20)\n",
    "    #Pirate Init\n",
    "    pirateInit = Pirate.init + random.randint(1,20)\n",
    "    #Set initiative \n",
    "    if pirateInit > sailorInit:\n",
    "        Pirate.pos = 1\n",
    "        Sailor.pos = 2\n",
    "    \n",
    "    elif sailorInit > pirateInit:\n",
    "        Sailor.pos = 1\n",
    "        Pirate.pos = 2\n",
    "        \n",
    "    else:\n",
    "        sailorFirst = bool(random.getrandbits(1))\n",
    "        if sailorFirst == True:\n",
    "            Sailor.pos = 1\n",
    "            Pirate.pos = 2\n",
    "        else:\n",
    "            Pirate.pos = 1\n",
    "            Sailor.pos = 2\n",
    "            \n",
    "#Energy Regen\n",
    "def energyRegen():\n",
    "    if Sailor.energy < Sailor.eMax:\n",
    "        Sailor.energy = Sailor.energy + 10\n",
    "        if Sailor.energy > Sailor.eMax:\n",
    "            Sailor.energy = Sailor.eMax\n",
    "\n",
    "    if Pirate.energy < Pirate.eMax:\n",
    "        Pirate.energy = Pirate.energy + 10\n",
    "        if Pirate.energy > Pirate.eMax:\n",
    "            Pirate.energy = Pirate.eMax\n",
    "\n",
    "#"
   ]
  },
  {
   "cell_type": "code",
   "execution_count": 6,
   "metadata": {},
   "outputs": [],
   "source": [
    "# Combat Actions\n",
    "\n",
    "def baseAttack():\n",
    "    #Establish Attack Order\n",
    "    if Sailor.pos == 1 and Pirate.pos == 2:\n",
    "        First = Sailor\n",
    "        Second = Pirate\n",
    "    else:\n",
    "        First = Pirate\n",
    "        Second = Sailor\n",
    "\n",
    "        \n",
    "    #First Attack\n",
    "    \n",
    "    #Attack Rolls\n",
    "    firstAttackRoll = random.randint(1,20)\n",
    "    firstAttack = First.dex + firstAttackRoll\n",
    "    firstDefense = Second.dex + 10\n",
    "    \n",
    "    #Does it hit? & Damage Roll\n",
    "    if firstAttack > firstDefense:\n",
    "        firstDamageRoll = random.randint(1, First.strength)\n",
    "        Second.health = Second.health - firstDamageRoll\n",
    "        print(str(First.name) + \" hit \" + str(Second.name) + \" for \" + str(firstDamageRoll) + \" Damage!\")\n",
    "        \n",
    "        #Are they still alive\n",
    "        if Second.health < 0:\n",
    "            print(str(Second.name) + \" has died from the attack.\")\n",
    "    \n",
    "        #Check for critical hit\n",
    "        elif firstAttackRoll > 15 and firstAttack > firstDefense:\n",
    "            firstCritDamage = random.randint(1, 2)\n",
    "            critStat = bool(random.getrandbits(1))\n",
    "            if critStat == True:\n",
    "                Second.strength = Second.strength - firstCritDamage\n",
    "                print(\"A critical hit. \" + str(Second.name) + \" took \" + str(firstCritDamage) + \" Strength damage.\")\n",
    "            else:\n",
    "                Second.dex = Second.dex - firstCritDamage\n",
    "                print(\"A critical hit. \" + str(Second.name) + \" took \" + str(firstCritDamage) + \" Dexterity damage.\")\n",
    "        \n",
    "        #Making sure that the updated health information \n",
    "        #is updating the characters not just first and second.\n",
    "        print(\"First \" + str(First.health))\n",
    "        print(\"Second \" + str(Second.health))\n",
    "        print(\"Sailor \" + str(Sailor.health))\n",
    "        print(\"Pirate \" + str(Pirate.health))\n",
    "\n",
    "    else:\n",
    "        print(str(First.name) + \" missed \" + str(Second.name))\n",
    "\n",
    "    #Second Attack\n",
    "    #Attack Rolls\n",
    "    secondAttackRoll = random.randint(1,20)\n",
    "    secondAttack = Second.dex + secondAttackRoll\n",
    "    secondDefense = First.dex + 10\n",
    "    \n",
    "    #Does it hit? & Damage Roll\n",
    "    if secondAttack > secondDefense:\n",
    "        secondDamageRoll = random.randint(1, Second.strength)\n",
    "        First.health = First.health - secondDamageRoll\n",
    "        print(str(Second.name) + \" hit \" + str(First.name) + \" for \" + str(secondDamageRoll) + \" Damage!\")\n",
    "        \n",
    "        #Are they still alive?\n",
    "        if First.health < 0:\n",
    "            print(str(First.name) + \" has died from the attack.\")\n",
    "            \n",
    "        elif secondAttackRoll > 15 and secondAttack > secondDefense:\n",
    "            secondCritDamage = random.randint(1,2)\n",
    "            critStat = bool(random.getrandbits(1))\n",
    "            if critStat == True:\n",
    "                First.strength = First.strength - secondCritDamage\n",
    "                print(\"A critical hit. \" + str(First.name) + \" took \" + str(secondCritDamage) + \" Strength damage.\")\n",
    "            else:\n",
    "                First.dex = First.dex - secondCritDamage\n",
    "                print(\"A critical hit. \" + str(First.name) + \" took \" + str(secondCritDamage) + \" Dexterity damage.\")\n",
    "        \n",
    "        #Making sure that the updated health information\n",
    "        #is updating the characters not just first and second.\n",
    "        print(\"First \" + str(First.health))\n",
    "        print(\"Second \" + str(Second.health))\n",
    "        print(\"Sailor \" + str(Sailor.health))\n",
    "        print(\"Pirate \" + str(Pirate.health))\n",
    "        \n",
    "    else:\n",
    "        print(str(Second.name) + \" missed \"+ str(First.name))\n",
    "    \n",
    "    "
   ]
  },
  {
   "cell_type": "code",
   "execution_count": null,
   "metadata": {},
   "outputs": [],
   "source": []
  },
  {
   "cell_type": "code",
   "execution_count": 20,
   "metadata": {},
   "outputs": [],
   "source": [
    "#DataFrame & Chart visualization\n",
    "def Chart():\n",
    "    data = {\"Name\": [Sailor.name, Pirate.name], \"Health\": [Sailor.health, Pirate.health], \"Strength\": [Sailor.strength, Pirate.strength], \"Dexterity\": [Sailor.dex, Pirate.dex], \"Energy\": [Sailor.energy, Pirate.energy]}\n",
    "    Dataframe = pd.DataFrame(data = data)\n",
    "    Dataframe\n",
    "    \n",
    "    Dataframe.plot.bar(x= \"Name\", y = [\"Health\", \"Strength\", \"Dexterity\", \"Energy\"])\n",
    "    plt.title(\"Pirate V. Sailor Combat\")\n",
    "    plt.xlabel(\"Combatants\")\n",
    "    plt.ylabel(\"Stat Values\")\n",
    "    plt.ylim(0, 100)\n",
    "    plt.show"
   ]
  },
  {
   "cell_type": "code",
   "execution_count": null,
   "metadata": {},
   "outputs": [],
   "source": []
  },
  {
   "cell_type": "code",
   "execution_count": 21,
   "metadata": {},
   "outputs": [
    {
     "name": "stdout",
     "output_type": "stream",
     "text": [
      "Sailor hit Pirate for 3 Damage!\n",
      "First 84\n",
      "Second 76\n",
      "Sailor 84\n",
      "Pirate 76\n",
      "Pirate missed Sailor\n"
     ]
    },
    {
     "data": {
      "image/png": "[encoded data removed]",
      "text/plain": [
       "<Figure size 432x288 with 1 Axes>"
      ]
     },
     "metadata": {},
     "output_type": "display_data"
    }
   ],
   "source": [
    "initative()\n",
    "baseAttack()\n",
    "energyRegen()\n",
    "Chart()\n"
   ]
  },
  {
   "cell_type": "code",
   "execution_count": null,
   "metadata": {},
   "outputs": [],
   "source": []
  }
 ],
 "metadata": {
  "kernelspec": {
   "display_name": "Python 3",
   "language": "python",
   "name": "python3"
  },
  "language_info": {
   "codemirror_mode": {
    "name": "ipython",
    "version": 3
   },
   "file_extension": ".py",
   "mimetype": "text/x-python",
   "name": "python",
   "nbconvert_exporter": "python",
   "pygments_lexer": "ipython3",
   "version": "3.6.5"
  }
 },
 "nbformat": 4,
 "nbformat_minor": 2
}
